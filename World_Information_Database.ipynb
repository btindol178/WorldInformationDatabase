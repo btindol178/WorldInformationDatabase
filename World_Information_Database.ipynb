{
 "cells": [
  {
   "cell_type": "markdown",
   "metadata": {},
   "source": [
    "# USE API'S TO UPDATE MYSQL DATABASE WITH SCHEDULER USING PYTHON"
   ]
  },
  {
   "cell_type": "markdown",
   "metadata": {},
   "source": [
    "# Change Passwords.. Back"
   ]
  },
  {
   "cell_type": "code",
   "execution_count": 10,
   "metadata": {},
   "outputs": [
    {
     "name": "stdout",
     "output_type": "stream",
     "text": [
      "Collecting mysql-connector-python\n",
      "  Downloading mysql_connector_python-8.0.23-cp38-cp38-win_amd64.whl (854 kB)\n",
      "Collecting protobuf>=3.0.0\n",
      "  Downloading protobuf-3.14.0-py2.py3-none-any.whl (173 kB)\n",
      "Requirement already satisfied: six>=1.9 in c:\\users\\btindol\\anaconda3\\lib\\site-packages (from protobuf>=3.0.0->mysql-connector-python) (1.15.0)\n",
      "Installing collected packages: protobuf, mysql-connector-python\n",
      "Successfully installed mysql-connector-python-8.0.23 protobuf-3.14.0\n"
     ]
    }
   ],
   "source": [
    "!pip install mysql-connector-python\n",
    "import mysql.connector\n",
    "#https://realpython.com/python-mysql/"
   ]
  },
  {
   "cell_type": "markdown",
   "metadata": {},
   "source": [
    "# CONNECTING THE EASIER WAY"
   ]
  },
  {
   "cell_type": "code",
   "execution_count": 40,
   "metadata": {
    "scrolled": false
   },
   "outputs": [
    {
     "name": "stdout",
     "output_type": "stream",
     "text": [
      "<mysql.connector.connection.MySQLConnection object at 0x0000021226113340>\n"
     ]
    }
   ],
   "source": [
    "\n",
    "mydb = mysql.connector.connect(\n",
    "  host=\"localhost\",\n",
    "  user=\"blake\",\n",
    "  password=\"SW..\"\n",
    ")\n",
    "\n",
    "print(mydb)"
   ]
  },
  {
   "cell_type": "code",
   "execution_count": 41,
   "metadata": {},
   "outputs": [],
   "source": [
    "mycursor = mydb.cursor()\n",
    "\n",
    "mycursor.execute(\"CREATE DATABASE worldinformation\")"
   ]
  },
  {
   "cell_type": "code",
   "execution_count": 42,
   "metadata": {
    "scrolled": true
   },
   "outputs": [
    {
     "name": "stdout",
     "output_type": "stream",
     "text": [
      "('cat',)\n",
      "('covid19',)\n",
      "('information_schema',)\n",
      "('mysql',)\n",
      "('performance_schema',)\n",
      "('sys',)\n",
      "('world',)\n",
      "('worldinformation',)\n"
     ]
    }
   ],
   "source": [
    "# SHOW THE DATABASE JUST CREATED\n",
    "mycursor.execute(\"SHOW DATABASES\")\n",
    "\n",
    "for x in mycursor:\n",
    "  print(x)"
   ]
  },
  {
   "cell_type": "code",
   "execution_count": 135,
   "metadata": {},
   "outputs": [],
   "source": [
    "# Connecting to the database just created \n",
    "mydb = mysql.connector.connect(\n",
    "  host=\"localhost\",\n",
    "  user=\"blake\",\n",
    "  password=\"SW..\",\n",
    "  database=\"worldinformation\",\n",
    "  connect_timeout=1000 ,\n",
    ")"
   ]
  },
  {
   "cell_type": "markdown",
   "metadata": {},
   "source": [
    "# Creating table to hold Covid-19 Data (DONT NEED THIS... SQL ALCHEMY INJECTS DIRECTLY)"
   ]
  },
  {
   "cell_type": "code",
   "execution_count": 48,
   "metadata": {},
   "outputs": [],
   "source": [
    "# CREATE TABLE FOR COVID 19 GITHUB DATA (USA STATE LEVEL) FROM https://raw.githubusercontent.com/nytimes/covid-19-data/master/us-states.csv\n",
    "# MAKE THE STATE THE PRIMARY KEY... (COMEBACK AND REEVALUATE IF THIS IS APPROPRIATE OR AUTOINCREMENT)\n",
    "\n",
    "#mycursor = mydb.cursor()\n",
    "#mycursor.execute(\"CREATE TABLE covids (date DATE ,state VARCHAR(100) NOT NULL ,fips INT,cases INT,deaths INT,primary key (state))\")\n"
   ]
  },
  {
   "cell_type": "code",
   "execution_count": 49,
   "metadata": {},
   "outputs": [
    {
     "name": "stdout",
     "output_type": "stream",
     "text": [
      "('covids',)\n"
     ]
    }
   ],
   "source": [
    "# Check to see the table and if it exists\n",
    "##mycursor.execute(\"SHOW TABLES\")\n",
    "\n",
    "#for x in mycursor:\n",
    " # print(x)"
   ]
  },
  {
   "cell_type": "markdown",
   "metadata": {},
   "source": [
    "# Download Covid data and upload to MYSQL through INSERT\n",
    "# STATE LEVEL INFORMATION\n",
    "# COVID"
   ]
  },
  {
   "cell_type": "code",
   "execution_count": 58,
   "metadata": {},
   "outputs": [
    {
     "name": "stdout",
     "output_type": "stream",
     "text": [
      "Collecting pymysql\n",
      "  Downloading PyMySQL-1.0.2-py3-none-any.whl (43 kB)\n",
      "Installing collected packages: pymysql\n",
      "Successfully installed pymysql-1.0.2\n"
     ]
    }
   ],
   "source": [
    "!pip install pymysql"
   ]
  },
  {
   "cell_type": "code",
   "execution_count": 69,
   "metadata": {},
   "outputs": [],
   "source": [
    "#KZO00183347L\n",
    "import pandas as pd\n",
    "import numpy as np\n",
    "from pandas.io import sql\n",
    "import pymysql\n",
    "import sqlalchemy\n",
    "user = 'blake'\n",
    "passw = 'SW..'\n",
    "host =  'localhost'\n",
    "port = 3306\n",
    "database = 'worldinformation'\n",
    "\n"
   ]
  },
  {
   "cell_type": "code",
   "execution_count": 109,
   "metadata": {
    "scrolled": true
   },
   "outputs": [
    {
     "data": {
      "text/html": [
       "<div>\n",
       "<style scoped>\n",
       "    .dataframe tbody tr th:only-of-type {\n",
       "        vertical-align: middle;\n",
       "    }\n",
       "\n",
       "    .dataframe tbody tr th {\n",
       "        vertical-align: top;\n",
       "    }\n",
       "\n",
       "    .dataframe thead th {\n",
       "        text-align: right;\n",
       "    }\n",
       "</style>\n",
       "<table border=\"1\" class=\"dataframe\">\n",
       "  <thead>\n",
       "    <tr style=\"text-align: right;\">\n",
       "      <th></th>\n",
       "      <th>date</th>\n",
       "      <th>state</th>\n",
       "      <th>fips</th>\n",
       "      <th>cases</th>\n",
       "      <th>deaths</th>\n",
       "    </tr>\n",
       "  </thead>\n",
       "  <tbody>\n",
       "    <tr>\n",
       "      <th>0</th>\n",
       "      <td>2020-01-21</td>\n",
       "      <td>Washington</td>\n",
       "      <td>53</td>\n",
       "      <td>1</td>\n",
       "      <td>0</td>\n",
       "    </tr>\n",
       "    <tr>\n",
       "      <th>1</th>\n",
       "      <td>2020-01-22</td>\n",
       "      <td>Washington</td>\n",
       "      <td>53</td>\n",
       "      <td>1</td>\n",
       "      <td>0</td>\n",
       "    </tr>\n",
       "    <tr>\n",
       "      <th>2</th>\n",
       "      <td>2020-01-23</td>\n",
       "      <td>Washington</td>\n",
       "      <td>53</td>\n",
       "      <td>1</td>\n",
       "      <td>0</td>\n",
       "    </tr>\n",
       "    <tr>\n",
       "      <th>3</th>\n",
       "      <td>2020-01-24</td>\n",
       "      <td>Illinois</td>\n",
       "      <td>17</td>\n",
       "      <td>1</td>\n",
       "      <td>0</td>\n",
       "    </tr>\n",
       "    <tr>\n",
       "      <th>4</th>\n",
       "      <td>2020-01-24</td>\n",
       "      <td>Washington</td>\n",
       "      <td>53</td>\n",
       "      <td>1</td>\n",
       "      <td>0</td>\n",
       "    </tr>\n",
       "  </tbody>\n",
       "</table>\n",
       "</div>"
      ],
      "text/plain": [
       "        date       state  fips  cases  deaths\n",
       "0 2020-01-21  Washington    53      1       0\n",
       "1 2020-01-22  Washington    53      1       0\n",
       "2 2020-01-23  Washington    53      1       0\n",
       "3 2020-01-24    Illinois    17      1       0\n",
       "4 2020-01-24  Washington    53      1       0"
      ]
     },
     "execution_count": 109,
     "metadata": {},
     "output_type": "execute_result"
    }
   ],
   "source": [
    "statecovid = pd.read_csv(\"https://raw.githubusercontent.com/nytimes/covid-19-data/master/us-states.csv\")\n",
    "statecovid['date'] = pd.to_datetime(statecovid['date'])\n",
    "statecovid['state'] = statecovid['state'].astype(str)\n",
    "statecovid = pd.DataFrame(statecovid)\n",
    "statecovid.head()"
   ]
  },
  {
   "cell_type": "code",
   "execution_count": 110,
   "metadata": {},
   "outputs": [],
   "source": [
    "database_username = 'blake'\n",
    "database_password = 'SW..'\n",
    "database_ip       = 'localhost'\n",
    "database_name     = 'worldinformation'\n",
    "database_connection = sqlalchemy.create_engine('mysql+mysqlconnector://{0}:{1}@{2}/{3}'.\n",
    "                                               format(database_username, database_password, \n",
    "                                                      database_ip, database_name))\n",
    "statecovid.to_sql(con=database_connection, name='usacovid', if_exists='replace')"
   ]
  },
  {
   "cell_type": "markdown",
   "metadata": {},
   "source": [
    "# DOWNLOAD USA STATE MOBILITY"
   ]
  },
  {
   "cell_type": "code",
   "execution_count": 79,
   "metadata": {},
   "outputs": [
    {
     "data": {
      "text/html": [
       "<div>\n",
       "<style scoped>\n",
       "    .dataframe tbody tr th:only-of-type {\n",
       "        vertical-align: middle;\n",
       "    }\n",
       "\n",
       "    .dataframe tbody tr th {\n",
       "        vertical-align: top;\n",
       "    }\n",
       "\n",
       "    .dataframe thead th {\n",
       "        text-align: right;\n",
       "    }\n",
       "</style>\n",
       "<table border=\"1\" class=\"dataframe\">\n",
       "  <thead>\n",
       "    <tr style=\"text-align: right;\">\n",
       "      <th></th>\n",
       "      <th>date</th>\n",
       "      <th>state</th>\n",
       "      <th>retail and recreation</th>\n",
       "      <th>grocery and pharmacy</th>\n",
       "      <th>parks</th>\n",
       "      <th>transit stations</th>\n",
       "      <th>workplaces</th>\n",
       "      <th>residential</th>\n",
       "    </tr>\n",
       "  </thead>\n",
       "  <tbody>\n",
       "    <tr>\n",
       "      <th>0</th>\n",
       "      <td>2020-02-15</td>\n",
       "      <td>Alabama</td>\n",
       "      <td>4.46</td>\n",
       "      <td>0.22</td>\n",
       "      <td>10.36</td>\n",
       "      <td>1.81</td>\n",
       "      <td>0.60</td>\n",
       "      <td>-0.28</td>\n",
       "    </tr>\n",
       "    <tr>\n",
       "      <th>1</th>\n",
       "      <td>2020-02-15</td>\n",
       "      <td>Alaska</td>\n",
       "      <td>6.38</td>\n",
       "      <td>0.62</td>\n",
       "      <td>3.12</td>\n",
       "      <td>1.12</td>\n",
       "      <td>-0.38</td>\n",
       "      <td>-0.12</td>\n",
       "    </tr>\n",
       "    <tr>\n",
       "      <th>2</th>\n",
       "      <td>2020-02-15</td>\n",
       "      <td>Arizona</td>\n",
       "      <td>4.75</td>\n",
       "      <td>3.69</td>\n",
       "      <td>16.31</td>\n",
       "      <td>8.38</td>\n",
       "      <td>-1.25</td>\n",
       "      <td>-0.19</td>\n",
       "    </tr>\n",
       "    <tr>\n",
       "      <th>3</th>\n",
       "      <td>2020-02-15</td>\n",
       "      <td>Arkansas</td>\n",
       "      <td>1.23</td>\n",
       "      <td>1.00</td>\n",
       "      <td>1.68</td>\n",
       "      <td>-1.17</td>\n",
       "      <td>0.48</td>\n",
       "      <td>0.02</td>\n",
       "    </tr>\n",
       "    <tr>\n",
       "      <th>4</th>\n",
       "      <td>2020-02-15</td>\n",
       "      <td>California</td>\n",
       "      <td>6.34</td>\n",
       "      <td>4.50</td>\n",
       "      <td>26.34</td>\n",
       "      <td>3.73</td>\n",
       "      <td>-1.70</td>\n",
       "      <td>-0.46</td>\n",
       "    </tr>\n",
       "  </tbody>\n",
       "</table>\n",
       "</div>"
      ],
      "text/plain": [
       "        date       state  retail and recreation  grocery and pharmacy  parks  \\\n",
       "0 2020-02-15     Alabama                   4.46                  0.22  10.36   \n",
       "1 2020-02-15      Alaska                   6.38                  0.62   3.12   \n",
       "2 2020-02-15     Arizona                   4.75                  3.69  16.31   \n",
       "3 2020-02-15    Arkansas                   1.23                  1.00   1.68   \n",
       "4 2020-02-15  California                   6.34                  4.50  26.34   \n",
       "\n",
       "   transit stations  workplaces  residential  \n",
       "0              1.81        0.60        -0.28  \n",
       "1              1.12       -0.38        -0.12  \n",
       "2              8.38       -1.25        -0.19  \n",
       "3             -1.17        0.48         0.02  \n",
       "4              3.73       -1.70        -0.46  "
      ]
     },
     "execution_count": 79,
     "metadata": {},
     "output_type": "execute_result"
    }
   ],
   "source": [
    "usa_mobility = pd.read_csv(\"https://raw.githubusercontent.com/ActiveConclusion/COVID19_mobility/master/google_reports/mobility_report_US.csv\")\n",
    "usa_mobility['date'] = pd.to_datetime(usa_mobility['date'])\n",
    "usa_mobility['retail and recreation'] = usa_mobility['retail and recreation'].fillna(0)\n",
    "usa_mobility['grocery and pharmacy'] = usa_mobility['grocery and pharmacy'].fillna(0)\n",
    "usa_mobility['parks'] = usa_mobility['parks'].fillna(0)\n",
    "usa_mobility['transit stations'] = usa_mobility['transit stations'].fillna(0)\n",
    "usa_mobility['workplaces'] = usa_mobility['workplaces'].fillna(0)\n",
    "usa_mobility['residential'] = usa_mobility['residential'].fillna(0)\n",
    "usa_mobility1 = usa_mobility.groupby(['date','state'])[['retail and recreation', 'grocery and pharmacy','parks','transit stations','workplaces','residential']].mean().reset_index()\n",
    "usa_mobility1['retail and recreation'] = round(usa_mobility1['retail and recreation'],2)\n",
    "usa_mobility1['grocery and pharmacy'] = round(usa_mobility1['grocery and pharmacy'],2)\n",
    "usa_mobility1['parks'] = round(usa_mobility1['parks'],2)\n",
    "usa_mobility1['transit stations'] = round(usa_mobility1['transit stations'],2)\n",
    "usa_mobility1['workplaces'] = round(usa_mobility1['workplaces'],2)\n",
    "usa_mobility1['residential'] = round(usa_mobility1['residential'],2)\n",
    "#usa_mobility1.index = pd.to_datetime(usa_mobility['date'])\n",
    "usa_mobility1['date'] = pd.to_datetime(usa_mobility1['date'])\n",
    "us_mobility1 = pd.DataFrame(usa_mobility1)\n",
    "usa_mobility1.head()\n",
    "#usa_mobility1.isnull().sum()"
   ]
  },
  {
   "cell_type": "code",
   "execution_count": 80,
   "metadata": {},
   "outputs": [],
   "source": [
    "# SEND MOVILIY TO DATBASE\n",
    "usa_mobility1.to_sql(con=database_connection, name='usamobility', if_exists='replace')"
   ]
  },
  {
   "cell_type": "markdown",
   "metadata": {},
   "source": [
    "# COUNTRY LEVEL COVID"
   ]
  },
  {
   "cell_type": "code",
   "execution_count": 92,
   "metadata": {
    "scrolled": true
   },
   "outputs": [],
   "source": [
    "url_confirmed3 = 'https://raw.githubusercontent.com/CSSEGISandData/COVID-19/master/csse_covid_19_data/csse_covid_19_time_series/time_series_covid19_confirmed_global.csv'\n",
    "url_deaths3 = 'https://raw.githubusercontent.com/CSSEGISandData/COVID-19/master/csse_covid_19_data/csse_covid_19_time_series/time_series_covid19_deaths_global.csv'\n",
    "url_recovered3 = 'https://raw.githubusercontent.com/CSSEGISandData/COVID-19/master/csse_covid_19_data/csse_covid_19_time_series/time_series_covid19_recovered_global.csv'\n",
    "confirmed3 = pd.read_csv(url_confirmed3)\n",
    "deaths3 = pd.read_csv(url_deaths3)\n",
    "recovered3 = pd.read_csv(url_recovered3)\n",
    "# Unpivot data frames\n",
    "date13 = confirmed3.columns[4:]\n",
    "total_confirmed3 = confirmed3.melt(id_vars=['Province/State', 'Country/Region', 'Lat', 'Long'], value_vars=date13, var_name='date', value_name='confirmed')\n",
    "date23 = deaths3.columns[4:]\n",
    "total_deaths3 = deaths3.melt(id_vars=['Province/State', 'Country/Region', 'Lat', 'Long'], value_vars=date23, var_name='date', value_name='death')\n",
    "date33 = recovered3.columns[4:]\n",
    "total_recovered3 = recovered3.melt(id_vars=['Province/State', 'Country/Region', 'Lat', 'Long'], value_vars=date33, var_name='date', value_name='recovered')\n",
    "# Merging data frames\n",
    "covid_data3 = total_confirmed3.merge(right=total_deaths3, how='left', on=['Province/State', 'Country/Region', 'date', 'Lat', 'Long'])\n",
    "covid_data3 = covid_data3.merge(right=total_recovered3, how='left', on=['Province/State', 'Country/Region', 'date', 'Lat', 'Long'])\n",
    "# Converting date column from string to proper date format\n",
    "#covid_data['date'] = pd.to_datetime(covid_data['date'])\n",
    "# Check how many missing value naN\n",
    "#covid_data.isna().sum()\n",
    "# Replace naN with 0\n",
    "covid_data3['recovered'] = covid_data3['recovered'].fillna(0)\n",
    "# Calculate new column\n",
    "covid_data3['active'] = covid_data3['confirmed'] - covid_data3['death'] - covid_data3['recovered']\n",
    "# By date for all countries (NOT FOR GRAPH)\n",
    "#This is also for last updated caluclation!\n",
    "covid_data23 = covid_data3\n",
    "covid_data23['date'] = pd.to_datetime(covid_data23['date'])\n",
    "#covid_data23.isnull().sum()\n",
    "#covid_data23['Province/State'] = covid_data23['Province/State'].fillna('-')\n",
    "#covid_data23['Lat'] = covid_data23['Lat'].fillna('-')\n",
    "#covid_data23['Long'] = covid_data23['Long'].fillna('-')\n",
    "#covid_data23.isnull().sum()\n",
    "covid_data23 = pd.DataFrame(covid_data23)"
   ]
  },
  {
   "cell_type": "code",
   "execution_count": 100,
   "metadata": {},
   "outputs": [
    {
     "data": {
      "text/plain": [
       "['Province/State',\n",
       " 'Country/Region',\n",
       " 'Lat',\n",
       " 'Long',\n",
       " 'date',\n",
       " 'confirmed',\n",
       " 'death',\n",
       " 'recovered',\n",
       " 'active']"
      ]
     },
     "execution_count": 100,
     "metadata": {},
     "output_type": "execute_result"
    }
   ],
   "source": [
    "list(covid_data23.columns)"
   ]
  },
  {
   "cell_type": "code",
   "execution_count": null,
   "metadata": {},
   "outputs": [],
   "source": [
    "# DO THIS IN MYSQL SERVER... TO ALLOW FOR BIG DATA DUMPS \n",
    "set global max_allowed_packet=67108864;\n"
   ]
  },
  {
   "cell_type": "code",
   "execution_count": 108,
   "metadata": {},
   "outputs": [],
   "source": [
    "# IF I WANT TO CREATE THE TABLE TO HOLD THE WORLD COVID BEFORE I INSERT IT INTO DATA BASE DO THIS FIRST... OTHERWISE ALTER IN MYSQL..\n",
    "#mycursor = mydb.cursor()\n",
    "# CANT HAVE / IN COLUMN NAME FOR SOME REASON...\n",
    "#mycursor.execute(\"CREATE TABLE worldcovid2 (Province/State VARCHAR(100) ,Country/Region VARCHAR(100),Lat DECIMAL(2) ,Long DECIMAL(2),date DATE,confirmed INT,death INT,recovered INT,active INT)\")\n"
   ]
  },
  {
   "cell_type": "code",
   "execution_count": 128,
   "metadata": {},
   "outputs": [],
   "source": [
    "database_username = 'blake'\n",
    "database_password = 'SW..'\n",
    "database_ip       = 'localhost'\n",
    "database_name     = 'worldinformation'\n",
    "database_connection = sqlalchemy.create_engine('mysql+mysqlconnector://{0}:{1}@{2}/{3}'.\n",
    "                                               format(database_username, database_password, \n",
    "                                                      database_ip, database_name))\n",
    "covid_data23.to_sql(con=database_connection, name='worldcovid', if_exists='replace')"
   ]
  },
  {
   "cell_type": "markdown",
   "metadata": {},
   "source": [
    "# COUNTRY LEVEL MOBILITY"
   ]
  },
  {
   "cell_type": "code",
   "execution_count": 114,
   "metadata": {},
   "outputs": [
    {
     "data": {
      "text/html": [
       "<div>\n",
       "<style scoped>\n",
       "    .dataframe tbody tr th:only-of-type {\n",
       "        vertical-align: middle;\n",
       "    }\n",
       "\n",
       "    .dataframe tbody tr th {\n",
       "        vertical-align: top;\n",
       "    }\n",
       "\n",
       "    .dataframe thead th {\n",
       "        text-align: right;\n",
       "    }\n",
       "</style>\n",
       "<table border=\"1\" class=\"dataframe\">\n",
       "  <thead>\n",
       "    <tr style=\"text-align: right;\">\n",
       "      <th></th>\n",
       "      <th>date</th>\n",
       "      <th>country</th>\n",
       "      <th>retail and recreation</th>\n",
       "      <th>grocery and pharmacy</th>\n",
       "      <th>parks</th>\n",
       "      <th>transit stations</th>\n",
       "      <th>workplaces</th>\n",
       "      <th>residential</th>\n",
       "    </tr>\n",
       "  </thead>\n",
       "  <tbody>\n",
       "    <tr>\n",
       "      <th>0</th>\n",
       "      <td>2020-02-15</td>\n",
       "      <td>Afghanistan</td>\n",
       "      <td>-9.00</td>\n",
       "      <td>-10.00</td>\n",
       "      <td>0.00</td>\n",
       "      <td>-2.00</td>\n",
       "      <td>-28.00</td>\n",
       "      <td>5.00</td>\n",
       "    </tr>\n",
       "    <tr>\n",
       "      <th>1</th>\n",
       "      <td>2020-02-15</td>\n",
       "      <td>Angola</td>\n",
       "      <td>1.00</td>\n",
       "      <td>-1.33</td>\n",
       "      <td>3.33</td>\n",
       "      <td>1.00</td>\n",
       "      <td>2.00</td>\n",
       "      <td>0.67</td>\n",
       "    </tr>\n",
       "    <tr>\n",
       "      <th>2</th>\n",
       "      <td>2020-02-15</td>\n",
       "      <td>Antigua and Barbuda</td>\n",
       "      <td>-3.67</td>\n",
       "      <td>-0.33</td>\n",
       "      <td>-3.33</td>\n",
       "      <td>1.33</td>\n",
       "      <td>-0.33</td>\n",
       "      <td>1.00</td>\n",
       "    </tr>\n",
       "    <tr>\n",
       "      <th>3</th>\n",
       "      <td>2020-02-15</td>\n",
       "      <td>Argentina</td>\n",
       "      <td>0.08</td>\n",
       "      <td>-2.12</td>\n",
       "      <td>-6.32</td>\n",
       "      <td>-5.36</td>\n",
       "      <td>-0.92</td>\n",
       "      <td>1.28</td>\n",
       "    </tr>\n",
       "    <tr>\n",
       "      <th>4</th>\n",
       "      <td>2020-02-15</td>\n",
       "      <td>Aruba</td>\n",
       "      <td>2.00</td>\n",
       "      <td>3.00</td>\n",
       "      <td>12.00</td>\n",
       "      <td>26.00</td>\n",
       "      <td>-2.00</td>\n",
       "      <td>-2.00</td>\n",
       "    </tr>\n",
       "    <tr>\n",
       "      <th>...</th>\n",
       "      <td>...</td>\n",
       "      <td>...</td>\n",
       "      <td>...</td>\n",
       "      <td>...</td>\n",
       "      <td>...</td>\n",
       "      <td>...</td>\n",
       "      <td>...</td>\n",
       "      <td>...</td>\n",
       "    </tr>\n",
       "    <tr>\n",
       "      <th>46348</th>\n",
       "      <td>2021-01-24</td>\n",
       "      <td>Venezuela</td>\n",
       "      <td>-40.00</td>\n",
       "      <td>-12.00</td>\n",
       "      <td>-34.00</td>\n",
       "      <td>-48.00</td>\n",
       "      <td>-12.00</td>\n",
       "      <td>11.00</td>\n",
       "    </tr>\n",
       "    <tr>\n",
       "      <th>46349</th>\n",
       "      <td>2021-01-24</td>\n",
       "      <td>Vietnam</td>\n",
       "      <td>-12.33</td>\n",
       "      <td>1.27</td>\n",
       "      <td>-17.19</td>\n",
       "      <td>-14.19</td>\n",
       "      <td>-15.14</td>\n",
       "      <td>-8.95</td>\n",
       "    </tr>\n",
       "    <tr>\n",
       "      <th>46350</th>\n",
       "      <td>2021-01-24</td>\n",
       "      <td>Yemen</td>\n",
       "      <td>24.00</td>\n",
       "      <td>40.00</td>\n",
       "      <td>31.00</td>\n",
       "      <td>7.00</td>\n",
       "      <td>3.00</td>\n",
       "      <td>2.00</td>\n",
       "    </tr>\n",
       "    <tr>\n",
       "      <th>46351</th>\n",
       "      <td>2021-01-24</td>\n",
       "      <td>Zambia</td>\n",
       "      <td>-14.00</td>\n",
       "      <td>-6.00</td>\n",
       "      <td>4.00</td>\n",
       "      <td>-28.00</td>\n",
       "      <td>-24.00</td>\n",
       "      <td>13.00</td>\n",
       "    </tr>\n",
       "    <tr>\n",
       "      <th>46352</th>\n",
       "      <td>2021-01-24</td>\n",
       "      <td>Zimbabwe</td>\n",
       "      <td>-20.33</td>\n",
       "      <td>-6.50</td>\n",
       "      <td>-8.33</td>\n",
       "      <td>-28.00</td>\n",
       "      <td>-21.83</td>\n",
       "      <td>6.50</td>\n",
       "    </tr>\n",
       "  </tbody>\n",
       "</table>\n",
       "<p>46353 rows × 8 columns</p>\n",
       "</div>"
      ],
      "text/plain": [
       "            date              country  retail and recreation  \\\n",
       "0     2020-02-15          Afghanistan                  -9.00   \n",
       "1     2020-02-15               Angola                   1.00   \n",
       "2     2020-02-15  Antigua and Barbuda                  -3.67   \n",
       "3     2020-02-15            Argentina                   0.08   \n",
       "4     2020-02-15                Aruba                   2.00   \n",
       "...          ...                  ...                    ...   \n",
       "46348 2021-01-24            Venezuela                 -40.00   \n",
       "46349 2021-01-24              Vietnam                 -12.33   \n",
       "46350 2021-01-24                Yemen                  24.00   \n",
       "46351 2021-01-24               Zambia                 -14.00   \n",
       "46352 2021-01-24             Zimbabwe                 -20.33   \n",
       "\n",
       "       grocery and pharmacy  parks  transit stations  workplaces  residential  \n",
       "0                    -10.00   0.00             -2.00      -28.00         5.00  \n",
       "1                     -1.33   3.33              1.00        2.00         0.67  \n",
       "2                     -0.33  -3.33              1.33       -0.33         1.00  \n",
       "3                     -2.12  -6.32             -5.36       -0.92         1.28  \n",
       "4                      3.00  12.00             26.00       -2.00        -2.00  \n",
       "...                     ...    ...               ...         ...          ...  \n",
       "46348                -12.00 -34.00            -48.00      -12.00        11.00  \n",
       "46349                  1.27 -17.19            -14.19      -15.14        -8.95  \n",
       "46350                 40.00  31.00              7.00        3.00         2.00  \n",
       "46351                 -6.00   4.00            -28.00      -24.00        13.00  \n",
       "46352                 -6.50  -8.33            -28.00      -21.83         6.50  \n",
       "\n",
       "[46353 rows x 8 columns]"
      ]
     },
     "execution_count": 114,
     "metadata": {},
     "output_type": "execute_result"
    }
   ],
   "source": [
    "mobility_countries = pd.read_csv(\"https://raw.githubusercontent.com/ActiveConclusion/COVID19_mobility/master/google_reports/mobility_report_countries.csv\")\n",
    "#mobility_countries['date'] = pd.to_datetime(mobility_countries['date'])\n",
    "\n",
    "mobility_countries['retail and recreation'] = mobility_countries['retail and recreation'].fillna(0)\n",
    "mobility_countries['grocery and pharmacy'] = mobility_countries['grocery and pharmacy'].fillna(0)\n",
    "mobility_countries['parks'] = mobility_countries['parks'].fillna(0)\n",
    "mobility_countries['transit stations'] = mobility_countries['transit stations'].fillna(0)\n",
    "mobility_countries['workplaces'] = mobility_countries['workplaces'].fillna(0)\n",
    "mobility_countries['residential'] = mobility_countries['residential'].fillna(0)\n",
    "\n",
    "mobility_countries1 = mobility_countries.groupby(['date','country'])[['retail and recreation', 'grocery and pharmacy','parks','transit stations','workplaces','residential']].mean().reset_index()\n",
    "mobility_countries1['retail and recreation'] = round(mobility_countries1['retail and recreation'],2)\n",
    "mobility_countries1['grocery and pharmacy'] = round(mobility_countries1['grocery and pharmacy'],2)\n",
    "mobility_countries1['parks'] = round(mobility_countries1['parks'],2)\n",
    "mobility_countries1['transit stations'] = round(mobility_countries1['transit stations'],2)\n",
    "mobility_countries1['workplaces'] = round(mobility_countries1['workplaces'],2)\n",
    "mobility_countries1['residential'] = round(mobility_countries1['residential'],2)\n",
    "#usa_mobility1.index = pd.to_datetime(usa_mobility['date'])\n",
    "mobility_countries1['date'] = pd.to_datetime(mobility_countries1['date'])\n",
    "#mobility_countries1.set_index('date', inplace=True)\n",
    "mobility_countries1 = pd.DataFrame(mobility_countries1)\n",
    "mobility_countries1"
   ]
  },
  {
   "cell_type": "code",
   "execution_count": 115,
   "metadata": {},
   "outputs": [],
   "source": [
    "mobility_countries1.to_sql(con=database_connection, name='worldmobility', if_exists='replace')"
   ]
  },
  {
   "cell_type": "markdown",
   "metadata": {},
   "source": [
    "# USA County Level Covid Data"
   ]
  },
  {
   "cell_type": "code",
   "execution_count": 123,
   "metadata": {},
   "outputs": [
    {
     "data": {
      "text/html": [
       "<div>\n",
       "<style scoped>\n",
       "    .dataframe tbody tr th:only-of-type {\n",
       "        vertical-align: middle;\n",
       "    }\n",
       "\n",
       "    .dataframe tbody tr th {\n",
       "        vertical-align: top;\n",
       "    }\n",
       "\n",
       "    .dataframe thead th {\n",
       "        text-align: right;\n",
       "    }\n",
       "</style>\n",
       "<table border=\"1\" class=\"dataframe\">\n",
       "  <thead>\n",
       "    <tr style=\"text-align: right;\">\n",
       "      <th></th>\n",
       "      <th>date</th>\n",
       "      <th>county</th>\n",
       "      <th>state</th>\n",
       "      <th>fips</th>\n",
       "      <th>cases</th>\n",
       "      <th>deaths</th>\n",
       "    </tr>\n",
       "  </thead>\n",
       "  <tbody>\n",
       "    <tr>\n",
       "      <th>0</th>\n",
       "      <td>2020-01-21</td>\n",
       "      <td>Snohomish</td>\n",
       "      <td>Washington</td>\n",
       "      <td>53061.0</td>\n",
       "      <td>1</td>\n",
       "      <td>0.0</td>\n",
       "    </tr>\n",
       "    <tr>\n",
       "      <th>1</th>\n",
       "      <td>2020-01-22</td>\n",
       "      <td>Snohomish</td>\n",
       "      <td>Washington</td>\n",
       "      <td>53061.0</td>\n",
       "      <td>1</td>\n",
       "      <td>0.0</td>\n",
       "    </tr>\n",
       "    <tr>\n",
       "      <th>2</th>\n",
       "      <td>2020-01-23</td>\n",
       "      <td>Snohomish</td>\n",
       "      <td>Washington</td>\n",
       "      <td>53061.0</td>\n",
       "      <td>1</td>\n",
       "      <td>0.0</td>\n",
       "    </tr>\n",
       "    <tr>\n",
       "      <th>3</th>\n",
       "      <td>2020-01-24</td>\n",
       "      <td>Cook</td>\n",
       "      <td>Illinois</td>\n",
       "      <td>17031.0</td>\n",
       "      <td>1</td>\n",
       "      <td>0.0</td>\n",
       "    </tr>\n",
       "    <tr>\n",
       "      <th>4</th>\n",
       "      <td>2020-01-24</td>\n",
       "      <td>Snohomish</td>\n",
       "      <td>Washington</td>\n",
       "      <td>53061.0</td>\n",
       "      <td>1</td>\n",
       "      <td>0.0</td>\n",
       "    </tr>\n",
       "  </tbody>\n",
       "</table>\n",
       "</div>"
      ],
      "text/plain": [
       "        date     county       state     fips  cases  deaths\n",
       "0 2020-01-21  Snohomish  Washington  53061.0      1     0.0\n",
       "1 2020-01-22  Snohomish  Washington  53061.0      1     0.0\n",
       "2 2020-01-23  Snohomish  Washington  53061.0      1     0.0\n",
       "3 2020-01-24       Cook    Illinois  17031.0      1     0.0\n",
       "4 2020-01-24  Snohomish  Washington  53061.0      1     0.0"
      ]
     },
     "execution_count": 123,
     "metadata": {},
     "output_type": "execute_result"
    }
   ],
   "source": [
    "county_covid = pd.read_csv(\"https://raw.githubusercontent.com/nytimes/covid-19-data/master/us-counties.csv\")\n",
    "county_covid['date'] = pd.to_datetime(county_covid['date'])\n",
    "county_covid['deaths'] = county_covid['deaths'].fillna(0)\n",
    "county_covid['fips'] = county_covid['fips'].fillna(0)\n",
    "county_covid = pd.DataFrame(county_covid)\n",
    "county_covid.head()\n",
    "\n",
    "# GO TO MYSQL AND DO THIS \n",
    "\n",
    "#set global max_allowed_packet=67108864;\n",
    "#SET session wait_timeout=7000;"
   ]
  },
  {
   "cell_type": "code",
   "execution_count": 146,
   "metadata": {},
   "outputs": [],
   "source": [
    "county_covid.to_sql(con=database_connection, name='usacountycovid', if_exists='replace',chunksize=100000, method='multi')"
   ]
  },
  {
   "cell_type": "markdown",
   "metadata": {},
   "source": [
    "# USA County Level Mobility Data"
   ]
  },
  {
   "cell_type": "code",
   "execution_count": 143,
   "metadata": {},
   "outputs": [
    {
     "data": {
      "text/plain": [
       "(874065, 9)"
      ]
     },
     "execution_count": 143,
     "metadata": {},
     "output_type": "execute_result"
    }
   ],
   "source": [
    "# County level mobility data \n",
    "usa_county_mobility= pd.read_csv(\"https://raw.githubusercontent.com/ActiveConclusion/COVID19_mobility/master/google_reports/mobility_report_US.csv\")\n",
    "usa_county_mobility['date'] = pd.to_datetime(usa_county_mobility['date'])\n",
    "usa_county_mobility['retail and recreation'] = usa_county_mobility['retail and recreation'].fillna(0)\n",
    "usa_county_mobility['grocery and pharmacy'] = usa_county_mobility['grocery and pharmacy'].fillna(0)\n",
    "usa_county_mobility['parks'] = usa_county_mobility['parks'].fillna(0)\n",
    "usa_county_mobility['transit stations'] = usa_county_mobility['transit stations'].fillna(0)\n",
    "usa_county_mobility['workplaces'] = usa_county_mobility['workplaces'].fillna(0)\n",
    "usa_county_mobility['residential'] = usa_county_mobility['residential'].fillna(0)\n",
    "usa_county_mobility = pd.DataFrame(usa_county_mobility)\n",
    "usa_county_mobility.head()\n",
    "usa_county_mobility3 = usa_county_mobility.head()\n",
    "usa_county_mobility.shape\n"
   ]
  },
  {
   "cell_type": "code",
   "execution_count": 145,
   "metadata": {},
   "outputs": [],
   "source": [
    "usa_county_mobility.to_sql(con=database_connection, name='usacountymobility', if_exists='replace',chunksize=10000, method='multi')"
   ]
  },
  {
   "cell_type": "code",
   "execution_count": null,
   "metadata": {},
   "outputs": [],
   "source": []
  }
 ],
 "metadata": {
  "kernelspec": {
   "display_name": "Python 3",
   "language": "python",
   "name": "python3"
  },
  "language_info": {
   "codemirror_mode": {
    "name": "ipython",
    "version": 3
   },
   "file_extension": ".py",
   "mimetype": "text/x-python",
   "name": "python",
   "nbconvert_exporter": "python",
   "pygments_lexer": "ipython3",
   "version": "3.8.5"
  }
 },
 "nbformat": 4,
 "nbformat_minor": 4
}
