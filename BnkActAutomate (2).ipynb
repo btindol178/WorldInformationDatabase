{
 "cells": [
  {
   "cell_type": "markdown",
   "metadata": {},
   "source": [
    "# LOG INTO BANK ACCOUNT WITH PYTHON!"
   ]
  },
  {
   "cell_type": "code",
   "execution_count": 2,
   "metadata": {},
   "outputs": [],
   "source": [
    "#conda install selenium\n",
    "#pip install timedelta\n",
    "from selenium import webdriver\n",
    "from getpass import getpass\n",
    "import pandas as pd\n",
    "import matplotlib.pyplot as plt\n",
    "import seaborn as sns\n",
    "from datetime import datetime, timedelta\n",
    "from selenium.webdriver import ActionChains\n",
    "\n"
   ]
  },
  {
   "cell_type": "code",
   "execution_count": null,
   "metadata": {},
   "outputs": [],
   "source": [
    "username= input(\"Enter Username: \")\n",
    "password=getpass(\"Enter Password: \")"
   ]
  },
  {
   "cell_type": "code",
   "execution_count": 41,
   "metadata": {},
   "outputs": [],
   "source": [
    "driver = webdriver.Chrome(\"C:\\\\Dev\\\\WebDrivers\\\\chromedriver.exe\")"
   ]
  },
  {
   "cell_type": "code",
   "execution_count": 42,
   "metadata": {},
   "outputs": [],
   "source": [
    "driver.get(\"https://ebanking.frontwavecu.com/Authentication\")"
   ]
  },
  {
   "cell_type": "code",
   "execution_count": 43,
   "metadata": {},
   "outputs": [],
   "source": [
    "username_textbox = driver.find_element_by_id(\"UserName\")\n",
    "username_textbox.send_keys(username)"
   ]
  },
  {
   "cell_type": "code",
   "execution_count": 44,
   "metadata": {},
   "outputs": [],
   "source": [
    "password_textbox = driver.find_element_by_id(\"Password\")\n",
    "password_textbox.send_keys(password)"
   ]
  },
  {
   "cell_type": "code",
   "execution_count": 46,
   "metadata": {},
   "outputs": [],
   "source": [
    "select = driver.find_element_by_tag_name(\"button.login-button\")\n"
   ]
  },
  {
   "cell_type": "code",
   "execution_count": 47,
   "metadata": {},
   "outputs": [],
   "source": [
    "select.click()\n"
   ]
  },
  {
   "cell_type": "code",
   "execution_count": 48,
   "metadata": {},
   "outputs": [],
   "source": [
    "driver.get(\"https://ebanking.frontwavecu.com/MyAccountsV2#account-87529702-fddf-4d84-a7a0-6e1444b8f78f\")"
   ]
  },
  {
   "cell_type": "code",
   "execution_count": 49,
   "metadata": {},
   "outputs": [],
   "source": [
    "export_data = driver.find_element_by_id(\"export_trigger\")\n"
   ]
  },
  {
   "cell_type": "code",
   "execution_count": 50,
   "metadata": {},
   "outputs": [],
   "source": [
    "export_data.click()\n"
   ]
  },
  {
   "cell_type": "code",
   "execution_count": 51,
   "metadata": {},
   "outputs": [],
   "source": [
    "clickdropdown = driver.find_element_by_id(\"iris_dropdown__selected_value_1608953895565\")"
   ]
  },
  {
   "cell_type": "code",
   "execution_count": 59,
   "metadata": {},
   "outputs": [],
   "source": [
    "csvdownload = driver.find_element_by_id(\"iris_option_1608953895578_display_list_item\")"
   ]
  },
  {
   "cell_type": "code",
   "execution_count": 60,
   "metadata": {},
   "outputs": [],
   "source": [
    "csvdownload.click()"
   ]
  },
  {
   "cell_type": "code",
   "execution_count": 67,
   "metadata": {},
   "outputs": [],
   "source": [
    "exportdata = driver.find_element_by_id(\"export_transactions_confirm_button\")\n"
   ]
  },
  {
   "cell_type": "code",
   "execution_count": 68,
   "metadata": {},
   "outputs": [],
   "source": [
    "exportdata.click()"
   ]
  },
  {
   "cell_type": "code",
   "execution_count": 9,
   "metadata": {},
   "outputs": [],
   "source": [
    "df = pd.read_csv(\"C:/Users/blake/Downloads/ExportedTransactions.csv\")"
   ]
  },
  {
   "cell_type": "code",
   "execution_count": 10,
   "metadata": {},
   "outputs": [
    {
     "data": {
      "text/html": [
       "<div>\n",
       "<style scoped>\n",
       "    .dataframe tbody tr th:only-of-type {\n",
       "        vertical-align: middle;\n",
       "    }\n",
       "\n",
       "    .dataframe tbody tr th {\n",
       "        vertical-align: top;\n",
       "    }\n",
       "\n",
       "    .dataframe thead th {\n",
       "        text-align: right;\n",
       "    }\n",
       "</style>\n",
       "<table border=\"1\" class=\"dataframe\">\n",
       "  <thead>\n",
       "    <tr style=\"text-align: right;\">\n",
       "      <th></th>\n",
       "      <th>Transaction ID</th>\n",
       "      <th>Posting Date</th>\n",
       "      <th>Effective Date</th>\n",
       "      <th>Transaction Type</th>\n",
       "      <th>Amount</th>\n",
       "      <th>Check Number</th>\n",
       "      <th>Reference Number</th>\n",
       "      <th>Description</th>\n",
       "      <th>Transaction Category</th>\n",
       "      <th>Type</th>\n",
       "      <th>Balance</th>\n",
       "      <th>Memo</th>\n",
       "      <th>Extended Description</th>\n",
       "    </tr>\n",
       "  </thead>\n",
       "  <tbody>\n",
       "    <tr>\n",
       "      <th>0</th>\n",
       "      <td>20201216 133264 28,086 6,367,465,866</td>\n",
       "      <td>12/16/2020</td>\n",
       "      <td>NaN</td>\n",
       "      <td>Credit</td>\n",
       "      <td>280.86</td>\n",
       "      <td>NaN</td>\n",
       "      <td>181087370</td>\n",
       "      <td>ACH Deposit COMPANY: UIA PRE-PAID CAR ENTRY: U...</td>\n",
       "      <td>NaN</td>\n",
       "      <td>ACH</td>\n",
       "      <td>1227.27</td>\n",
       "      <td>NaN</td>\n",
       "      <td>ACH Deposit COMPANY: UIA PRE-PAID CAR ENTRY: U...</td>\n",
       "    </tr>\n",
       "    <tr>\n",
       "      <th>1</th>\n",
       "      <td>20201214 133264 268,497 6,356,794,201</td>\n",
       "      <td>12/14/2020</td>\n",
       "      <td>NaN</td>\n",
       "      <td>Debit</td>\n",
       "      <td>-2684.97</td>\n",
       "      <td>NaN</td>\n",
       "      <td>181087369</td>\n",
       "      <td>ACH Withdrawal COMPANY: CITI CARD ONLINE ENTRY...</td>\n",
       "      <td>Shopping</td>\n",
       "      <td>Ach Debits</td>\n",
       "      <td>946.41</td>\n",
       "      <td>NaN</td>\n",
       "      <td>ACH Withdrawal COMPANY: CITI CARD ONLINE ENTRY...</td>\n",
       "    </tr>\n",
       "    <tr>\n",
       "      <th>2</th>\n",
       "      <td>20201204 133264 102,701 6,303,958,942</td>\n",
       "      <td>12/4/2020</td>\n",
       "      <td>NaN</td>\n",
       "      <td>Credit</td>\n",
       "      <td>1027.01</td>\n",
       "      <td>NaN</td>\n",
       "      <td>179354275</td>\n",
       "      <td>ACH Deposit COMPANY: VENMO ENTRY: CASHOUT MELI...</td>\n",
       "      <td>NaN</td>\n",
       "      <td>ACH</td>\n",
       "      <td>3631.38</td>\n",
       "      <td>NaN</td>\n",
       "      <td>ACH Deposit COMPANY: VENMO ENTRY: CASHOUT MELI...</td>\n",
       "    </tr>\n",
       "    <tr>\n",
       "      <th>3</th>\n",
       "      <td>20201202 133264 39,473 6,293,744,682</td>\n",
       "      <td>12/2/2020</td>\n",
       "      <td>NaN</td>\n",
       "      <td>Debit</td>\n",
       "      <td>-394.73</td>\n",
       "      <td>NaN</td>\n",
       "      <td>179079101</td>\n",
       "      <td>ACH Withdrawal COMPANY: USAA.COM PAYMNT ENTRY:...</td>\n",
       "      <td>NaN</td>\n",
       "      <td>Ach Debits</td>\n",
       "      <td>2604.37</td>\n",
       "      <td>NaN</td>\n",
       "      <td>ACH Withdrawal COMPANY: USAA.COM PAYMNT ENTRY:...</td>\n",
       "    </tr>\n",
       "    <tr>\n",
       "      <th>4</th>\n",
       "      <td>20201202 133264 160,316 6,293,744,259</td>\n",
       "      <td>12/2/2020</td>\n",
       "      <td>NaN</td>\n",
       "      <td>Debit</td>\n",
       "      <td>-1603.16</td>\n",
       "      <td>NaN</td>\n",
       "      <td>179079100</td>\n",
       "      <td>ACH Withdrawal COMPANY: CITI CARD ONLINE ENTRY...</td>\n",
       "      <td>Shopping</td>\n",
       "      <td>Ach Debits</td>\n",
       "      <td>2999.10</td>\n",
       "      <td>NaN</td>\n",
       "      <td>ACH Withdrawal COMPANY: CITI CARD ONLINE ENTRY...</td>\n",
       "    </tr>\n",
       "  </tbody>\n",
       "</table>\n",
       "</div>"
      ],
      "text/plain": [
       "                          Transaction ID Posting Date Effective Date  \\\n",
       "0   20201216 133264 28,086 6,367,465,866   12/16/2020            NaN   \n",
       "1  20201214 133264 268,497 6,356,794,201   12/14/2020            NaN   \n",
       "2  20201204 133264 102,701 6,303,958,942    12/4/2020            NaN   \n",
       "3   20201202 133264 39,473 6,293,744,682    12/2/2020            NaN   \n",
       "4  20201202 133264 160,316 6,293,744,259    12/2/2020            NaN   \n",
       "\n",
       "  Transaction Type   Amount  Check Number  Reference Number  \\\n",
       "0           Credit   280.86           NaN         181087370   \n",
       "1            Debit -2684.97           NaN         181087369   \n",
       "2           Credit  1027.01           NaN         179354275   \n",
       "3            Debit  -394.73           NaN         179079101   \n",
       "4            Debit -1603.16           NaN         179079100   \n",
       "\n",
       "                                         Description Transaction Category  \\\n",
       "0  ACH Deposit COMPANY: UIA PRE-PAID CAR ENTRY: U...                  NaN   \n",
       "1  ACH Withdrawal COMPANY: CITI CARD ONLINE ENTRY...             Shopping   \n",
       "2  ACH Deposit COMPANY: VENMO ENTRY: CASHOUT MELI...                  NaN   \n",
       "3  ACH Withdrawal COMPANY: USAA.COM PAYMNT ENTRY:...                  NaN   \n",
       "4  ACH Withdrawal COMPANY: CITI CARD ONLINE ENTRY...             Shopping   \n",
       "\n",
       "         Type  Balance  Memo  \\\n",
       "0         ACH  1227.27   NaN   \n",
       "1  Ach Debits   946.41   NaN   \n",
       "2         ACH  3631.38   NaN   \n",
       "3  Ach Debits  2604.37   NaN   \n",
       "4  Ach Debits  2999.10   NaN   \n",
       "\n",
       "                                Extended Description  \n",
       "0  ACH Deposit COMPANY: UIA PRE-PAID CAR ENTRY: U...  \n",
       "1  ACH Withdrawal COMPANY: CITI CARD ONLINE ENTRY...  \n",
       "2  ACH Deposit COMPANY: VENMO ENTRY: CASHOUT MELI...  \n",
       "3  ACH Withdrawal COMPANY: USAA.COM PAYMNT ENTRY:...  \n",
       "4  ACH Withdrawal COMPANY: CITI CARD ONLINE ENTRY...  "
      ]
     },
     "execution_count": 10,
     "metadata": {},
     "output_type": "execute_result"
    }
   ],
   "source": [
    "df.head()"
   ]
  },
  {
   "cell_type": "code",
   "execution_count": 76,
   "metadata": {},
   "outputs": [
    {
     "data": {
      "text/plain": [
       "['Transaction ID',\n",
       " 'Posting Date',\n",
       " 'Effective Date',\n",
       " 'Transaction Type',\n",
       " 'Amount',\n",
       " 'Check Number',\n",
       " 'Reference Number',\n",
       " 'Description',\n",
       " 'Transaction Category',\n",
       " 'Type',\n",
       " 'Balance',\n",
       " 'Memo',\n",
       " 'Extended Description']"
      ]
     },
     "execution_count": 76,
     "metadata": {},
     "output_type": "execute_result"
    }
   ],
   "source": [
    "list(df.columns)"
   ]
  },
  {
   "cell_type": "code",
   "execution_count": 11,
   "metadata": {},
   "outputs": [],
   "source": [
    "df2 = df\n",
    "df2 = df2.set_index('Posting Date') "
   ]
  },
  {
   "cell_type": "code",
   "execution_count": 12,
   "metadata": {},
   "outputs": [
    {
     "data": {
      "text/html": [
       "<div>\n",
       "<style scoped>\n",
       "    .dataframe tbody tr th:only-of-type {\n",
       "        vertical-align: middle;\n",
       "    }\n",
       "\n",
       "    .dataframe tbody tr th {\n",
       "        vertical-align: top;\n",
       "    }\n",
       "\n",
       "    .dataframe thead th {\n",
       "        text-align: right;\n",
       "    }\n",
       "</style>\n",
       "<table border=\"1\" class=\"dataframe\">\n",
       "  <thead>\n",
       "    <tr style=\"text-align: right;\">\n",
       "      <th></th>\n",
       "      <th>Transaction ID</th>\n",
       "      <th>Effective Date</th>\n",
       "      <th>Transaction Type</th>\n",
       "      <th>Amount</th>\n",
       "      <th>Check Number</th>\n",
       "      <th>Reference Number</th>\n",
       "      <th>Description</th>\n",
       "      <th>Transaction Category</th>\n",
       "      <th>Type</th>\n",
       "      <th>Balance</th>\n",
       "      <th>Memo</th>\n",
       "      <th>Extended Description</th>\n",
       "    </tr>\n",
       "    <tr>\n",
       "      <th>Posting Date</th>\n",
       "      <th></th>\n",
       "      <th></th>\n",
       "      <th></th>\n",
       "      <th></th>\n",
       "      <th></th>\n",
       "      <th></th>\n",
       "      <th></th>\n",
       "      <th></th>\n",
       "      <th></th>\n",
       "      <th></th>\n",
       "      <th></th>\n",
       "      <th></th>\n",
       "    </tr>\n",
       "  </thead>\n",
       "  <tbody>\n",
       "    <tr>\n",
       "      <th>12/16/2020</th>\n",
       "      <td>20201216 133264 28,086 6,367,465,866</td>\n",
       "      <td>NaN</td>\n",
       "      <td>Credit</td>\n",
       "      <td>280.86</td>\n",
       "      <td>NaN</td>\n",
       "      <td>181087370</td>\n",
       "      <td>ACH Deposit COMPANY: UIA PRE-PAID CAR ENTRY: U...</td>\n",
       "      <td>NaN</td>\n",
       "      <td>ACH</td>\n",
       "      <td>1227.27</td>\n",
       "      <td>NaN</td>\n",
       "      <td>ACH Deposit COMPANY: UIA PRE-PAID CAR ENTRY: U...</td>\n",
       "    </tr>\n",
       "    <tr>\n",
       "      <th>12/14/2020</th>\n",
       "      <td>20201214 133264 268,497 6,356,794,201</td>\n",
       "      <td>NaN</td>\n",
       "      <td>Debit</td>\n",
       "      <td>-2684.97</td>\n",
       "      <td>NaN</td>\n",
       "      <td>181087369</td>\n",
       "      <td>ACH Withdrawal COMPANY: CITI CARD ONLINE ENTRY...</td>\n",
       "      <td>Shopping</td>\n",
       "      <td>Ach Debits</td>\n",
       "      <td>946.41</td>\n",
       "      <td>NaN</td>\n",
       "      <td>ACH Withdrawal COMPANY: CITI CARD ONLINE ENTRY...</td>\n",
       "    </tr>\n",
       "    <tr>\n",
       "      <th>12/4/2020</th>\n",
       "      <td>20201204 133264 102,701 6,303,958,942</td>\n",
       "      <td>NaN</td>\n",
       "      <td>Credit</td>\n",
       "      <td>1027.01</td>\n",
       "      <td>NaN</td>\n",
       "      <td>179354275</td>\n",
       "      <td>ACH Deposit COMPANY: VENMO ENTRY: CASHOUT MELI...</td>\n",
       "      <td>NaN</td>\n",
       "      <td>ACH</td>\n",
       "      <td>3631.38</td>\n",
       "      <td>NaN</td>\n",
       "      <td>ACH Deposit COMPANY: VENMO ENTRY: CASHOUT MELI...</td>\n",
       "    </tr>\n",
       "    <tr>\n",
       "      <th>12/2/2020</th>\n",
       "      <td>20201202 133264 39,473 6,293,744,682</td>\n",
       "      <td>NaN</td>\n",
       "      <td>Debit</td>\n",
       "      <td>-394.73</td>\n",
       "      <td>NaN</td>\n",
       "      <td>179079101</td>\n",
       "      <td>ACH Withdrawal COMPANY: USAA.COM PAYMNT ENTRY:...</td>\n",
       "      <td>NaN</td>\n",
       "      <td>Ach Debits</td>\n",
       "      <td>2604.37</td>\n",
       "      <td>NaN</td>\n",
       "      <td>ACH Withdrawal COMPANY: USAA.COM PAYMNT ENTRY:...</td>\n",
       "    </tr>\n",
       "    <tr>\n",
       "      <th>12/2/2020</th>\n",
       "      <td>20201202 133264 160,316 6,293,744,259</td>\n",
       "      <td>NaN</td>\n",
       "      <td>Debit</td>\n",
       "      <td>-1603.16</td>\n",
       "      <td>NaN</td>\n",
       "      <td>179079100</td>\n",
       "      <td>ACH Withdrawal COMPANY: CITI CARD ONLINE ENTRY...</td>\n",
       "      <td>Shopping</td>\n",
       "      <td>Ach Debits</td>\n",
       "      <td>2999.10</td>\n",
       "      <td>NaN</td>\n",
       "      <td>ACH Withdrawal COMPANY: CITI CARD ONLINE ENTRY...</td>\n",
       "    </tr>\n",
       "  </tbody>\n",
       "</table>\n",
       "</div>"
      ],
      "text/plain": [
       "                                     Transaction ID Effective Date  \\\n",
       "Posting Date                                                         \n",
       "12/16/2020     20201216 133264 28,086 6,367,465,866            NaN   \n",
       "12/14/2020    20201214 133264 268,497 6,356,794,201            NaN   \n",
       "12/4/2020     20201204 133264 102,701 6,303,958,942            NaN   \n",
       "12/2/2020      20201202 133264 39,473 6,293,744,682            NaN   \n",
       "12/2/2020     20201202 133264 160,316 6,293,744,259            NaN   \n",
       "\n",
       "             Transaction Type   Amount  Check Number  Reference Number  \\\n",
       "Posting Date                                                             \n",
       "12/16/2020             Credit   280.86           NaN         181087370   \n",
       "12/14/2020              Debit -2684.97           NaN         181087369   \n",
       "12/4/2020              Credit  1027.01           NaN         179354275   \n",
       "12/2/2020               Debit  -394.73           NaN         179079101   \n",
       "12/2/2020               Debit -1603.16           NaN         179079100   \n",
       "\n",
       "                                                    Description  \\\n",
       "Posting Date                                                      \n",
       "12/16/2020    ACH Deposit COMPANY: UIA PRE-PAID CAR ENTRY: U...   \n",
       "12/14/2020    ACH Withdrawal COMPANY: CITI CARD ONLINE ENTRY...   \n",
       "12/4/2020     ACH Deposit COMPANY: VENMO ENTRY: CASHOUT MELI...   \n",
       "12/2/2020     ACH Withdrawal COMPANY: USAA.COM PAYMNT ENTRY:...   \n",
       "12/2/2020     ACH Withdrawal COMPANY: CITI CARD ONLINE ENTRY...   \n",
       "\n",
       "             Transaction Category        Type  Balance  Memo  \\\n",
       "Posting Date                                                   \n",
       "12/16/2020                    NaN         ACH  1227.27   NaN   \n",
       "12/14/2020               Shopping  Ach Debits   946.41   NaN   \n",
       "12/4/2020                     NaN         ACH  3631.38   NaN   \n",
       "12/2/2020                     NaN  Ach Debits  2604.37   NaN   \n",
       "12/2/2020                Shopping  Ach Debits  2999.10   NaN   \n",
       "\n",
       "                                           Extended Description  \n",
       "Posting Date                                                     \n",
       "12/16/2020    ACH Deposit COMPANY: UIA PRE-PAID CAR ENTRY: U...  \n",
       "12/14/2020    ACH Withdrawal COMPANY: CITI CARD ONLINE ENTRY...  \n",
       "12/4/2020     ACH Deposit COMPANY: VENMO ENTRY: CASHOUT MELI...  \n",
       "12/2/2020     ACH Withdrawal COMPANY: USAA.COM PAYMNT ENTRY:...  \n",
       "12/2/2020     ACH Withdrawal COMPANY: CITI CARD ONLINE ENTRY...  "
      ]
     },
     "execution_count": 12,
     "metadata": {},
     "output_type": "execute_result"
    }
   ],
   "source": [
    "df2.head()"
   ]
  },
  {
   "cell_type": "code",
   "execution_count": 13,
   "metadata": {},
   "outputs": [
    {
     "data": {
      "image/png": "[encoded data removed]",
      "text/plain": [
       "<Figure size 792x288 with 1 Axes>"
      ]
     },
     "metadata": {},
     "output_type": "display_data"
    }
   ],
   "source": [
    "sns.set(rc={'figure.figsize':(11, 4)})\n",
    "df2['Balance'].plot(linewidth=0.5);\n"
   ]
  },
  {
   "cell_type": "code",
   "execution_count": 29,
   "metadata": {},
   "outputs": [
    {
     "name": "stdout",
     "output_type": "stream",
     "text": [
      "Current Date : 2020-12-25\n",
      "5 days before Current Date : 2020-11-25\n"
     ]
    }
   ],
   "source": [
    "from datetime import date, timedelta\n",
    "prior = date.today() - timedelta(30)\n",
    "today =date.today()\n",
    "print('Current Date :',date.today())\n",
    "print('5 days before Current Date :',dt)\n",
    "prior = prior.strftime('%m/%d/%Y')\n",
    "today=today.strftime('%m/%d/%Y')"
   ]
  },
  {
   "cell_type": "code",
   "execution_count": 19,
   "metadata": {},
   "outputs": [
    {
     "name": "stdout",
     "output_type": "stream",
     "text": [
      "<class 'pandas.core.frame.DataFrame'>\n",
      "RangeIndex: 937 entries, 0 to 936\n",
      "Data columns (total 13 columns):\n",
      " #   Column                Non-Null Count  Dtype         \n",
      "---  ------                --------------  -----         \n",
      " 0   Transaction ID        937 non-null    object        \n",
      " 1   Posting Date          937 non-null    datetime64[ns]\n",
      " 2   Effective Date        35 non-null     object        \n",
      " 3   Transaction Type      937 non-null    object        \n",
      " 4   Amount                937 non-null    float64       \n",
      " 5   Check Number          76 non-null     float64       \n",
      " 6   Reference Number      937 non-null    int64         \n",
      " 7   Description           937 non-null    object        \n",
      " 8   Transaction Category  284 non-null    object        \n",
      " 9   Type                  899 non-null    object        \n",
      " 10  Balance               937 non-null    float64       \n",
      " 11  Memo                  0 non-null      float64       \n",
      " 12  Extended Description  937 non-null    object        \n",
      "dtypes: datetime64[ns](1), float64(4), int64(1), object(7)\n",
      "memory usage: 95.3+ KB\n",
      "None\n"
     ]
    }
   ],
   "source": [
    "df['Posting Date']= pd.to_datetime(df['Posting Date'])\n",
    "\n",
    "print(df.info())\n"
   ]
  },
  {
   "cell_type": "code",
   "execution_count": 32,
   "metadata": {},
   "outputs": [
    {
     "data": {
      "text/html": [
       "<div>\n",
       "<style scoped>\n",
       "    .dataframe tbody tr th:only-of-type {\n",
       "        vertical-align: middle;\n",
       "    }\n",
       "\n",
       "    .dataframe tbody tr th {\n",
       "        vertical-align: top;\n",
       "    }\n",
       "\n",
       "    .dataframe thead th {\n",
       "        text-align: right;\n",
       "    }\n",
       "</style>\n",
       "<table border=\"1\" class=\"dataframe\">\n",
       "  <thead>\n",
       "    <tr style=\"text-align: right;\">\n",
       "      <th></th>\n",
       "      <th>Transaction ID</th>\n",
       "      <th>Posting Date</th>\n",
       "      <th>Effective Date</th>\n",
       "      <th>Transaction Type</th>\n",
       "      <th>Amount</th>\n",
       "      <th>Check Number</th>\n",
       "      <th>Reference Number</th>\n",
       "      <th>Description</th>\n",
       "      <th>Transaction Category</th>\n",
       "      <th>Type</th>\n",
       "      <th>Balance</th>\n",
       "      <th>Memo</th>\n",
       "      <th>Extended Description</th>\n",
       "    </tr>\n",
       "  </thead>\n",
       "  <tbody>\n",
       "    <tr>\n",
       "      <th>4</th>\n",
       "      <td>20201202 133264 160,316 6,293,744,259</td>\n",
       "      <td>2020-12-02</td>\n",
       "      <td>NaN</td>\n",
       "      <td>Debit</td>\n",
       "      <td>-1603.16</td>\n",
       "      <td>NaN</td>\n",
       "      <td>179079100</td>\n",
       "      <td>ACH Withdrawal COMPANY: CITI CARD ONLINE ENTRY...</td>\n",
       "      <td>Shopping</td>\n",
       "      <td>Ach Debits</td>\n",
       "      <td>2999.10</td>\n",
       "      <td>NaN</td>\n",
       "      <td>ACH Withdrawal COMPANY: CITI CARD ONLINE ENTRY...</td>\n",
       "    </tr>\n",
       "    <tr>\n",
       "      <th>5</th>\n",
       "      <td>20201202 133264 28,086 6,293,095,232</td>\n",
       "      <td>2020-12-02</td>\n",
       "      <td>NaN</td>\n",
       "      <td>Credit</td>\n",
       "      <td>280.86</td>\n",
       "      <td>NaN</td>\n",
       "      <td>179079099</td>\n",
       "      <td>ACH Deposit COMPANY: UIA PRE-PAID CAR ENTRY: U...</td>\n",
       "      <td>NaN</td>\n",
       "      <td>ACH</td>\n",
       "      <td>4602.26</td>\n",
       "      <td>NaN</td>\n",
       "      <td>ACH Deposit COMPANY: UIA PRE-PAID CAR ENTRY: U...</td>\n",
       "    </tr>\n",
       "    <tr>\n",
       "      <th>6</th>\n",
       "      <td>20201201 133264 100,000 6,289,158,527</td>\n",
       "      <td>2020-12-01</td>\n",
       "      <td>NaN</td>\n",
       "      <td>Debit</td>\n",
       "      <td>-1000.00</td>\n",
       "      <td>NaN</td>\n",
       "      <td>179079098</td>\n",
       "      <td>ACH Withdrawal COMPANY: NEWREZ-SHELLPOIN ENTRY...</td>\n",
       "      <td>NaN</td>\n",
       "      <td>Ach Debits</td>\n",
       "      <td>4321.40</td>\n",
       "      <td>NaN</td>\n",
       "      <td>ACH Withdrawal COMPANY: NEWREZ-SHELLPOIN ENTRY...</td>\n",
       "    </tr>\n",
       "    <tr>\n",
       "      <th>7</th>\n",
       "      <td>20201127 133264 134,400 6,262,324,422</td>\n",
       "      <td>2020-11-27</td>\n",
       "      <td>NaN</td>\n",
       "      <td>Credit</td>\n",
       "      <td>1344.00</td>\n",
       "      <td>NaN</td>\n",
       "      <td>178635379</td>\n",
       "      <td>ACH Deposit COMPANY: VAED TREAS 310 ENTRY: XXV...</td>\n",
       "      <td>NaN</td>\n",
       "      <td>ACH</td>\n",
       "      <td>5321.40</td>\n",
       "      <td>NaN</td>\n",
       "      <td>ACH Deposit COMPANY: VAED TREAS 310 ENTRY: XXV...</td>\n",
       "    </tr>\n",
       "    <tr>\n",
       "      <th>8</th>\n",
       "      <td>20201127 133264 179,580 6,262,323,842</td>\n",
       "      <td>2020-11-27</td>\n",
       "      <td>NaN</td>\n",
       "      <td>Credit</td>\n",
       "      <td>1795.80</td>\n",
       "      <td>NaN</td>\n",
       "      <td>178635378</td>\n",
       "      <td>ACH Deposit COMPANY: VACP TREAS 310 ENTRY: XXV...</td>\n",
       "      <td>NaN</td>\n",
       "      <td>ACH</td>\n",
       "      <td>3977.40</td>\n",
       "      <td>NaN</td>\n",
       "      <td>ACH Deposit COMPANY: VACP TREAS 310 ENTRY: XXV...</td>\n",
       "    </tr>\n",
       "  </tbody>\n",
       "</table>\n",
       "</div>"
      ],
      "text/plain": [
       "                          Transaction ID Posting Date Effective Date  \\\n",
       "4  20201202 133264 160,316 6,293,744,259   2020-12-02            NaN   \n",
       "5   20201202 133264 28,086 6,293,095,232   2020-12-02            NaN   \n",
       "6  20201201 133264 100,000 6,289,158,527   2020-12-01            NaN   \n",
       "7  20201127 133264 134,400 6,262,324,422   2020-11-27            NaN   \n",
       "8  20201127 133264 179,580 6,262,323,842   2020-11-27            NaN   \n",
       "\n",
       "  Transaction Type   Amount  Check Number  Reference Number  \\\n",
       "4            Debit -1603.16           NaN         179079100   \n",
       "5           Credit   280.86           NaN         179079099   \n",
       "6            Debit -1000.00           NaN         179079098   \n",
       "7           Credit  1344.00           NaN         178635379   \n",
       "8           Credit  1795.80           NaN         178635378   \n",
       "\n",
       "                                         Description Transaction Category  \\\n",
       "4  ACH Withdrawal COMPANY: CITI CARD ONLINE ENTRY...             Shopping   \n",
       "5  ACH Deposit COMPANY: UIA PRE-PAID CAR ENTRY: U...                  NaN   \n",
       "6  ACH Withdrawal COMPANY: NEWREZ-SHELLPOIN ENTRY...                  NaN   \n",
       "7  ACH Deposit COMPANY: VAED TREAS 310 ENTRY: XXV...                  NaN   \n",
       "8  ACH Deposit COMPANY: VACP TREAS 310 ENTRY: XXV...                  NaN   \n",
       "\n",
       "         Type  Balance  Memo  \\\n",
       "4  Ach Debits  2999.10   NaN   \n",
       "5         ACH  4602.26   NaN   \n",
       "6  Ach Debits  4321.40   NaN   \n",
       "7         ACH  5321.40   NaN   \n",
       "8         ACH  3977.40   NaN   \n",
       "\n",
       "                                Extended Description  \n",
       "4  ACH Withdrawal COMPANY: CITI CARD ONLINE ENTRY...  \n",
       "5  ACH Deposit COMPANY: UIA PRE-PAID CAR ENTRY: U...  \n",
       "6  ACH Withdrawal COMPANY: NEWREZ-SHELLPOIN ENTRY...  \n",
       "7  ACH Deposit COMPANY: VAED TREAS 310 ENTRY: XXV...  \n",
       "8  ACH Deposit COMPANY: VACP TREAS 310 ENTRY: XXV...  "
      ]
     },
     "execution_count": 32,
     "metadata": {},
     "output_type": "execute_result"
    }
   ],
   "source": [
    "df = df[(df['Posting Date']>= prior) & (df['Posting Date']<= today)]\n",
    "df.tail()\n"
   ]
  },
  {
   "cell_type": "markdown",
   "metadata": {},
   "source": [
    "# Print last 30 days of "
   ]
  },
  {
   "cell_type": "code",
   "execution_count": 33,
   "metadata": {},
   "outputs": [],
   "source": [
    "df3 = df.set_index('Posting Date') "
   ]
  },
  {
   "cell_type": "code",
   "execution_count": 34,
   "metadata": {},
   "outputs": [
    {
     "data": {
      "image/png": "[encoded data removed]",
      "text/plain": [
       "<Figure size 792x288 with 1 Axes>"
      ]
     },
     "metadata": {},
     "output_type": "display_data"
    }
   ],
   "source": [
    "sns.set(rc={'figure.figsize':(11, 4)})\n",
    "df3['Balance'].plot(linewidth=0.5);"
   ]
  }
 ],
 "metadata": {
  "kernelspec": {
   "display_name": "Python 3",
   "language": "python",
   "name": "python3"
  },
  "language_info": {
   "codemirror_mode": {
    "name": "ipython",
    "version": 3
   },
   "file_extension": ".py",
   "mimetype": "text/x-python",
   "name": "python",
   "nbconvert_exporter": "python",
   "pygments_lexer": "ipython3",
   "version": "3.8.5"
  }
 },
 "nbformat": 4,
 "nbformat_minor": 4
}
